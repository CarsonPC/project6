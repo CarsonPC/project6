{
 "cells": [
  {
   "cell_type": "markdown",
   "id": "d9b0906d-1319-459f-8d72-f096e5a77b50",
   "metadata": {},
   "source": [
    "<img align = \"left\" src=\"m2pi.png\" width=\"200px\">  \n",
<<<<<<< HEAD
    "<h1>  </h1>"
   ]
  },
  {
   "cell_type": "markdown",
   "id": "a0b2a6b0-7b96-4368-8171-39b9ce04ab0a",
   "metadata": {},
   "source": [
    "# McMillan-McGee:\n",
    "## _Characterizing Resistance and Inductance on a Copper Bus Bar_"
   ]
  },
  {
   "cell_type": "markdown",
   "id": "7ecacac9-8835-4250-a0a1-967ae14e9318",
   "metadata": {},
   "source": [
    "###  Carson Chambers, Pedro Sobrevilla-Moreno\n",
    "\n",
    "> ABSTRACT: Voltage spikes occur when current is abruptly interrupted and can damage inadequately protected equipment. To install protective equipment, one must find the resistance and inductance of the object carrying the current. Using Maxwells Equations one can relate the resistance and inductance to the intensity of the magnetic field induced by the current. The authors suggest a Helmholtz equation using discrete methods for computation to model the magnetic field intensity."
   ]
  },
  {
   "cell_type": "markdown",
   "id": "41faa46a-89dc-4235-8194-bee8eb94b761",
   "metadata": {},
   "source": [
    "### Introduction\n",
    "\n",
    "The engineering firm McMillan-McGee came to $Math^{industry}$ with a thermodynamics problem involving electromagnetic fields that required solving a certain non-homogenous boundary value problem involving Maxwell's equations. McMillan-McGee developed a high frequency inverter. This high frequency alternating current induces an electromagnetic field and if this current is abruptly interrupted then a voltage spike will occur that puts the equipment at risk of being damaged. To fix is necessary to install a suitable bus bar system that can absorb energy caused by switching transients from semiconductor devices. Hence, both the resistance and inductance of the DC bus bar that supplies the current must be characterized.\n",
    "\n",
    "Previous work has been done on this subject by Norman McLachlan$^1$ using an ellipse to approximate a rectangular cross-section of a bus bar. In his work he developed formulas to find current density, power loss, and high frequency resistance. Unfortunately, McLachlan's$^1$ work is in Gaussian units instead of Minute, Kilogram, Seconds units, also known as MKS, which is undesirable for an engineer. Finally, McLachlan$^1$ draws the conclusion that the surface distribution of current density is identical to that of a bar holding an\n",
    "electric charge. Hence, the total current flowing axially on the bus bar corresponds to the total surface charge.\n",
    "\n",
    "### Theory\n",
    "\n",
    "The bus bar being made of copper allows itself to be a good conductor which the magnetic field barely penetrates. As such, the problem can be reduced from three dimensions to two dimensions, only observing the surface layer. The component of the magnetic field normal to the bar's surface tends to decay exponentially. Thus, the magnetic field is roughly tangential to the bus bar and it follows that on the surface the vector magnetic potential is constant and satisfies the same conditions as the electrostatic potential. Using Maxwell's Equation's we can relate the intensity of the electric field to the resistance and inductance. Letting $\\mathcal D = \\epsilon _0 \\mathcal E$, $\\mathcal H = \\frac{\\mathcal B}{\\mu _0}$, \n",
=======
    "<h1>  </h1>\n",
    "<h1> <center> McMillan-McGee </center> </h1>\n",
    "<center> <i>Characterizing Resistance and Inductance on a Copper Bus Bar</i> </center>\n",
    "\n",
    "<h2> <center> Chambers, C. Sobrevilla, P.</center></h2>\n",
    "\n",
    "> ABSTRACT: Voltage spikes occur when current is abruptly interrupted and can damage inadequately protected equipment. To install protective equipment, one must find the resistance and inductance of the object carrying the current. Using Maxwells Equations one can relate the resistance and inductance to the intensity of the magnetic field induced by the current. The authors suggest a Helmholtz equation using discrete methods for computation to model the magnetic field intensity.\n",
    "\n",
    "<h3> Introduction </h3>\n",
    "\n",
    "The engineering firm McMillan-McGee came to $Math^{industry}$ with a thermodynamics problem involving electromagnetic fields that required solving a certain non-homogenous boundary value problem involving Maxwell's equations. McMillan-McGee developed a high frequency inverter. This high frequency alternating current induces an electromagnetic field and if this current is abruptly interrupted then a voltage spike will occur that puts the equipment at risk of being damaged. To install a suitable bus bar system that can absorb energy caused by switching transients from semiconductor devices, both the resistance and inductance of the DC bus bar that supplies the current must be characterized.  \n",
    "\n",
    "Previous work has been done on this subject by Norman McLachlan$^1$ using an ellipse to approximate a rectangular cross-section of a bus bar he developed formulas to find current density, power loss, and high frequency resistance. Unfortunately, McLauchlan's$^1$ work is in Gaussian units instead of MKS units which is undesirable for an engineer. McLachlan$^1$ draws the conclusion that the surface distribution of current density is identical to that of a bar holding an electric charge. Hence, the total current flowing axially on the bus bar corresponds to the total surface charge.\n",
    "\n",
    "<h3> Theory </h3>\n",
    "\n",
    "The bus bar being made of copper allows itself to be a good conductor which the magnetic field barely penetrates. As such, the problem can be reduced from three dimensions to two dimensions, only observing the surface layer. The component of the magnetic field normal to the bar's surface tends to decay exponentially. Thus, the magnetic field is roughly tangential to the bus bar and it follows that on the surface the vector magnetic potential is constant and satisfies the same conditions as the electrostatic potential. Using Maxwell's Equation's we can relate the intensity of the electric field to the resistance and inductance.\n",
>>>>>>> 4092976f898bad24a9c7111feeb6bf8e047f6ced
    "\n",
    "\\begin{equation}\n",
<<<<<<< HEAD
    "\t\\begin{alignedat}{3}\n",
    "\t\t& \\hskip8em & \\frac{\\partial \\mathcal{E}}{\\partial t}& = \\nabla \\times \\mathcal{B}, & \\hskip8em &\\text{(Ampère's Law)} \\\\[0.5ex]\n",
    "\t\t& & \\frac{\\partial\\mathcal{B}}{\\partial t}& = -\\nabla \\times \\mathcal{E}, & &\\text{(Faraday's Law)} \\\\[0.5ex]\n",
    "\t\t&\\vphantom{\\frac{\\partial B}{\\partial t}} &\\nabla \\cdot \\mathcal{B} & =0, & &\\text{(Gauss' Law)} \\\\[0.5ex]\n",
    "\t\t&\\vphantom{\\frac{\\partial B}{\\partial t}} &\\nabla \\cdot \\mathcal{E} & =0. & &\\text{(Coulomb's Law)}\n",
    "\t\\end{alignedat}\n",
    "\\end{equation}\n",
    "\n",
    "Given that we only need to concern ourselves with the surface layer of\n",
    "the bus bar we can look at Maxwell's Equations in two dimensions. Let\n",
    "$(0,0,\\mathcal{E})$ and $({}_{1}\\mathcal{H},{}_{2}\\mathcal{H},0)$\n",
    "denote the electric field and the magnetic fields, respectively. Then,\n",
=======
    "    \\begin{alignedat}{3}\n",
    "        & \\hskip8em &\\frac{\\partial D}{\\partial t}& = ∇ × \\mathcal H, & \\hskip8em &\\text{(Faraday's Law)} \\\\[0.5ex]\n",
    "        & & \\frac{\\partial\\mathcal B}{\\partial t}& = -∇ × \\mathcal E, & &\\text{(Ampère's Law)} \\\\[0.5ex]\n",
    "        &\\vphantom{\\frac{\\partial B}{\\partial t}} &∇ · \\mathcal B, & =0 & &\\text{(Gauss' Law)} \\\\[0.5ex]\n",
    "        &\\vphantom{\\frac{\\partial B}{\\partial t}} &∇ · \\mathcal E. & =0 & &\\text{(Coulomb's Law)}\n",
    "    \\end{alignedat}\n",
    "\\end{equation}\n",
    "$$\n",
    "\n",
    "Given that we only need to concern ourselves with the surface layer of the bus bar we can look at Maxwell's Equations in two dimensions. Let $(0,0,\\mathcal E)$ and $({}_{1}\\mathcal H,{}_{2}\\mathcal H,0)$ denote the electric field and the magnetic fields, respectively. Then,  \n",
>>>>>>> 4092976f898bad24a9c7111feeb6bf8e047f6ced
    "\n",
    "\\begin{equation*}\n",
    "    \\begin{alignedat}{3}\n",
<<<<<<< HEAD
    "        & \\hskip8em & \\mathcal E_{y}& = - {}_{1}\\mathcal H_{t},  & \\hskip8em &\\text{(2)} \\\\[0.5ex]\n",
    "        & \\hskip8em & \\mathcal E_{x}& = {}_{2}\\mathcal H_{t},  & \\hskip8em &\\text{(3)} \\\\[0.5ex]\n",
    "        & \\hskip8em & \\mathcal E_{t}& = {}_{2}\\mathcal H_{x} - {}_{1}\\mathcal H_{y}. & \\hskip8em &\\text{(4)}\\\\[0.5ex]\n",
=======
    "        & \\hskip8em & \\mathcal E_{y}& = - {}_{1}\\mathcal H_{t},  & \\hskip8em &\\text{(1)}\\\\[0.5ex]\n",
    "        & \\hskip8em & \\mathcal E_{x}& = {}_{2}\\mathcal H_{t},  & \\hskip8em &\\text{(2)}\\\\[0.5ex]\n",
    "        & \\hskip8em & \\mathcal E_{t}& = {}_{2}\\mathcal H_{x} - {}_{1}\\mathcal H_{y}. & \\hskip8em&\\text{(3)}\\\\[0.5ex]\n",
>>>>>>> 4092976f898bad24a9c7111feeb6bf8e047f6ced
    "    \\end{alignedat}\n",
    "\\end{equation*}\n",
    "\n",
<<<<<<< HEAD
    "In this scenario, our electromagnetic field is time harmonic. Letting\n",
    "\\(i\\) represent the complex number \\(\\sqrt{-1}\\) and \\(k\\) the wave\n",
    "number, then we have,\n",
=======
    "In this scenario, our electromagnetic field is time harmonic. Letting $i$ represent the complex number $\\sqrt{-1}$ and $k$ the wave number, then we have,\n",
>>>>>>> 4092976f898bad24a9c7111feeb6bf8e047f6ced
    "\n",
    "\\begin{equation*}\n",
    "    \\begin{alignedat}{3}      \n",
<<<<<<< HEAD
    "        & \\hskip8em & _{1}\\mathcal H(x,y,t)& = e^{ikt} {}_{1}h(x,y), &\\hskip8em &\\text{(5)} \\\\[0.5ex]\n",
    "        & \\hskip8em & _{2}\\mathcal H(x,y,t)& = e^{ikt} {}_{2}h(x,y), &\\hskip8em &\\text{(6)} \\\\[0.5ex]\n",
    "        & \\hskip8em & \\mathcal E(x,y,t)& = e^{ikt}u(x,y). &\\hskip8em &\\text{(7)} \\\\[0.5ex]\n",
=======
    "        & \\hskip8em & _{1}\\mathcal H(x,y,t)& = e^{ikt} {}_{1}h(x,y),&\\hskip8em\\\\[0.5ex]\n",
    "        & \\hskip8em & _{2}\\mathcal H(x,y,t)& = e^{ikt} {}_{2}h(x,y),&\\hskip8em\\\\[0.5ex]\n",
    "        & \\hskip8em & \\mathcal E(x,y,t)& = e^{ikt}u(x,y).&\\hskip8em\\\\[0.5ex]\n",
>>>>>>> 4092976f898bad24a9c7111feeb6bf8e047f6ced
    "    \\end{alignedat}\n",
    "\\end{equation*}\n",
    "\n",
<<<<<<< HEAD
    "After putting these two relationship mappings together, we see by\n",
    "equations (2) and (5) that we have,\n",
    "\n",
    "$$\n",
    "e^{ikt}u_{y}(x,y) = -ike^{ikt}{}_{1}h(x,y).\n",
    "$$\n",
=======
    "After putting these two relationship mappings together, we see by equation 1 that we have,\n",
    "\n",
    "$$\n",
    "e^{ikt}u_{y}(x,y) = -ike^{ikt}{}_{1}h(x,y)\\Longrightarrow \\frac{i}{k}u_{y}(x,y)={}_{1}h(x,y).\n",
    "$$\n",
    "Similarly by equation 2,\n",
    "$$e^{ikt}u_{x}(x,y) = ike^{ikt}{}_{2}h(x,y)\\Longrightarrow \\frac{-i}{k}u_{x}(x,y)={}_{2}h(x,y).$$\n",
    "\n",
    "Finally, by combining equations 1,2 and 3,\n",
    "$$ike^{ikt}u(x,y) = (\\frac{-i}{k}u_{xx}(x,y)-\\frac{i}{k}u_{yy}(x,y))e^{ikt} \\Longrightarrow -\\Delta u(x,y)-k^{2}u(x,y)=0.$$\n",
>>>>>>> 4092976f898bad24a9c7111feeb6bf8e047f6ced
    "\n",
    "Thus ,\n",
    "$$\\frac{i}{k}u_{y}(x,y)={}_{1}h(x,y).$$\n",
    "\n",
<<<<<<< HEAD
    "Similarly by equations (3) and (6),\n",
    "\n",
    "$$\n",
    "e^{ikt}u_{x}(x,y) = ike^{ikt}{}_{2}h(x,y)\n",
    "$$\n",
    "\n",
    "this implies,\n",
    "\n",
    "$$\\frac{-i}{k}u_{x}(x,y)={}_{2}h(x,y)$$\n",
    "\n",
    "Finally, by combining the previous results and equations (4) and (7),\n",
    "\n",
    "$$\n",
    "ike^{ikt}u(x,y) = (\\frac{-i}{k}u_{xx}(x,y)-\\frac{i}{k}u_{yy}(x,y))e^{ikt} \n",
    "$$\n",
    "give us,\n",
    "$$-\\Delta u(x,y)-k^{2}u(x,y)=0.$$"
   ]
  },
  {
   "cell_type": "markdown",
   "id": "6cf22ac0-dab4-4c2a-b10b-164331e85a7d",
   "metadata": {},
   "source": [
    "Notice that from Maxwells equations we have recovered a two-dimensional Helmholtzequation. Given the propensity of the electrons to cluster at the endpoints of the bus bar, we will require non-homogenous Dirichlet boundary conditions. The $k$ value, referred to as the wave number, is determined by $ \\omega $, $ \\mu $ and $ \\sigma $ the circular frequency, permeability in a vacuum, and electrical conductivity of copper, respectively, with relationship $k^{2}=-i \\omega \\mu \\sigma$."
   ]
  },
  {
   "cell_type": "markdown",
   "id": "1e5e3a4c-0d96-48cc-a82a-8c83902b061d",
   "metadata": {},
   "source": [
    "### Methodology\n",
    "\n",
    "The computations for this project were all done on 'MATLAB R2019a'. The boundary conditions were selected in a way to match the propensity of electrons to cluster at the endpoints of the copper bus bar. When observing the rectangular case, $(x,y) \\in [0,a]\\times [0,b]$, the Dirichlet boundary conditions imposed were,\n",
    "\n",
    "  * $u(0,y) = u(a,y) = Amplitude*cos^2(\\frac{\\pi x}{a}),$ </li>\n",
    "  * $u(x,0) = u(x,b) = Amplitude*cos^2(\\frac{\\pi y}{b}).$ </li>\n",
    "\n",
    "In the case of the ellipse we determined that its area should be equal to the area of the rectangle, to match the results of the rectangular case. Now, recall that an ellipse can be characterized as the points $(x,y) \\ni \\frac{x^{2}}{\\gamma^{2}} +\n",
    "\\frac{y^{2}}{\\delta^{2}} = 1$.Hence, the boundary condition\n",
    "can be parameterized as $x(\\theta) = \\gamma cos(\\theta)$ and $y(\\theta) = \\delta sin(\\theta)$\n",
    "where $\\theta \\in [0, 2\\pi )$. The initial condition can then be given by,\n",
    "\n",
    "\n",
    "  * $u(x(\\theta),y(\\theta)) = Amplitude*cos^{2}(\\theta).$ </li>\n",
    "\n",
    "The code has been written in such a way that it is generalized for an arbitrary problem of a similar nature. For demonstration purposes, McMillan-McGee provided us with sample values to use that matched their particular problem. The constants used are as follows,"
   ]
  },
  {
   "cell_type": "markdown",
   "id": "f3899720-69c8-46a4-929d-95b2b9d04b42",
   "metadata": {},
   "source": [
    "\n",
    "  * $a = 8m$\n",
    "  * $b = 1m$\n",
    "  * $\\gamma = 4m$\n",
    "  * $\\delta  = \\frac{2}{\\pi}m$,\n",
    "  * $\\mu = 4*\\pi10^{-7} \\frac{N}{A^2}$,\n",
    "  * $\\sigma = 58.7\\cdot 10^{6} \\frac{S}{m}$,\n",
    "  * $\\omega = 2\\pi 10^6 s^{-1}$,\n",
    "  * $\\text{Amplitude} = 10.0m$.\n",
    "\n",
    "With those conditions and constants, we apply the usual second-order finite difference scheme to discretize the Helmholtz equation on the rectangular domain. We solve the resultant linear system using discrete separation of variables. This method has a time complexity of $O(n^3)$ as opposed to Gaussian Elimination which has a cumbersome $O(n^6)$ time complexity$^2$, where $n=\\frac{1}{h}$ and $h$ is the size of the grid in each direction. In the elliptic case we applied continuous piecewise linear finite elements to solve the problem. To ensure the integrity of the data from our algorithm we tested it on an exact solution where the electric intensity was $u(x,y)=x^2-y^2$ the wave number $k=1$ and the forcing term $F=y^2-x^2$. Testing both the\n",
    "Gaussian Elimination and discrete separation\n",
    "of variables we tracked both the runtime and error of each algorithm,\n",
    "\n",
    "| Runtime | Error | \n",
    "| - | - | \n",
    "| ![runtime diff](runtime_dif.png) | ![error diff](error_dif.png) |\n",
=======
    "From Maxwells equations we have recovered a two-dimensional Helmholtz equation. Given the propensity of the electrons to cluster at the endpoints of the bus bar, we will require non-homogenous Dirichlet boundary conditions. The $k$ value is determined by $ \\omega$, $\\mu$ and $\\sigma $ the circular frequency, permeability in a vacuum, and electrical conductivity of copper, respectively, with relationship $k^2=-i \\omega \\mu \\sigma$ \n",
    "\n",
    "<h3> Methodology </h3>\n",
    "\n",
    "The computations for this project were all done on 'MATLAB R2019a'. The boundary conditions were selected in a way to match the propensity of electrons to cluster at the endpoints of the copper bus bar. When observing the rectangular case, $(x,y) \\in [0,a]\\times [0,b]$, where  the Dirichlet boundary conditions imposed were,\n",
    "\n",
    "<ul>\n",
    "    <li>$u(0,y) = u(a,y) = Amplitude*cos^2(\\frac{\\pi x}{a}),$</li>\n",
    "    <li>$u(x,0) = u(x,b) = Amplitude*cos^2(\\frac{\\pi y}{b}).$</li>\n",
    "</ul>\n",
    "\n",
    "Whereas on the elliptic case, $(x,y) \\ni \\frac{x^2}{\\gamma ^2} + \\frac{y^2}{\\delta ^2} = 1$, our boundary condition was instead\n",
    "\n",
    "<ul>\n",
    "    <li>$u(\\theta, r_{bound}) = Amplitude*cos(\\theta)^2$.</li>\n",
    "</ul>\n",
    "\n",
    "The code has been written in such a way that it is generalized for an arbitrary problem of a similar nature. For demonstration purposes, McMillan-McGee provided us with sample values to use that matched their particular problem. The constants used are as follows,\n",
    "\n",
    "<ul>\n",
    "    <li> $a = 8m$ </li>\n",
    "    <li> $b = 1m$ </li>\n",
    "    <li>$ \\gamma = 4m $</li>\n",
    "    <li>$ \\delta  = \\frac{2}{\\pi}m, $</li>\n",
    "    <li>$ \\mu = 4*\\pi10^{-7} \\frac{N}{A^2},$</li>\n",
    "    <li>$ \\sigma = 58.7\\cdot 10^{6} \\frac{S}{m},$</li>\n",
    "    <li>$ \\omega = 2\\pi 10^6 s^{-1},$</li>\n",
    "    <li>$ \\text{Amplitude} = 10.0m. $</li>\n",
    "    \n",
    "</ul>\n",
    "\n",
    "With those conditions and constants, we apply the usual second-order finite difference scheme to discretize the Helmholtz equation on the rectangular domain. We solve the resultant linear system using discrete separation of variables. This method has a time complexity of $O(n^3)$ as opposed to Gaussian Elimination which has a cumbersome $O(n^6)$ time complexity$^2$, where $n=\\frac{1}{h}$ where $h$ is the size of the grid in each direction. In the elliptic case we applied continuous piecewise linear finite elements to solve the problem. To ensure the integrity of the data from our algorithm we tested it on an exact solution where the electric intensity was $u(x,y)=x^2-y^2$ the wave number $k=1$ and the forcing term $F=y^2-x^2$. Testing both the simple separation of variables and eigen-value decomposition separation of variables we tracked both the runtime and error of each algorithm, \n",
    "\n",
    "| Runtime | Error | \n",
    "| - | - | \n",
    "| <img src=\"runtime_dif.png\" width=\"500\" /> | <img src=\"error_dif.png\" width=\"500\" /> |\n",
>>>>>>> 4092976f898bad24a9c7111feeb6bf8e047f6ced
    "\n",
    "From the results we decided to go with the discrete separation of variables.\n",
    "\n",
    "Additionally, we did some test runs for different values of the wave number $k$, to study the behavior of our model,\n",
<<<<<<< HEAD
    "\n",
    "![image1](kvalsellip.png)"
   ]
  },
  {
   "cell_type": "markdown",
   "id": "6ee50d27-b7f6-45f7-98c9-027c0f13c09b",
   "metadata": {},
   "source": [
    "### Results\n",
    "\n",
    "Using the equations and parameters described in the previous sections, we arrived to the following results for our two regions of interest i.e. a rectangular bus bar and an elliptical one.\n",
    " Firstly, we concluded that the electromagnetic intensity is greater at the end points, and decays in the midsections of the copper bus bar as shown in the figures below. This implied that our\n",
    " models adequately represent a real world scenario of the problem according to our discussion with our industry mentor at McGillan-McGee. Additionally, we would like to mention that from the\n",
    " two chosen regions used for our models, the rectangular bus bar is more applicable as it is most resembles the real world situation; since this is most common shape of bus bars.\n",
    " The elliptical model results will allow our industry partner at McGillan-McGee to continue investigating the work done by McLachlan$^1$ on the subject, which was the\n",
    " original problem that was presented to us. It is important to remark that our models are generalized so it is trivial to substitute the parameters for alternative conditions. \n",
=======
    "\n",
    "<img src=\"kvalsellip.png\">\n",
    "\n",
    "\n",
    "<h3>Results</h3>\n",
    "\n",
    "Using the equations and parameters described in the previous sections, we arrived to the following results for our two regions of interest i.e. a rectangular bus bar and an elliptical one.\n",
    " Firstly, we concluded that the electromagnetic intensity is greater at the end points, and decays in the midsections of the copper bus bar as shown in the figures below. This implied that our\n",
    " models adequately represent a real world scenario of the problem according to our discussion with our industry mentor at McGillan-McGee. Additionally, we would like to mention that from the\n",
    " two chosen regions used for our models, the rectangular bus bar is more applicable as it is most resembles the real world situation; since this is most common shape of bus bars.\n",
    " The elliptical model results will allow our industry partner at McGillan-McGee to continue investigating the work done by McLachlan$^1$ on the subject, which was the\n",
    " original problem that was presented to us. It is important to remark that our models are generalized so it is trivial to substitute the parameters for alternative conditions. \n",
    "\n",
    "| Rectangular | Elliptical | \n",
    "| - | - | \n",
    "| <img src=\"rect.png\" width=\"500\" /> | <img src=\"ellip.png\" width=\"500\" /> |\n",
>>>>>>> 4092976f898bad24a9c7111feeb6bf8e047f6ced
    "\n",
    "| Rectangular | Elliptical | \n",
    "| - | - | \n",
    "| ![rectanglular](rect.png) | ![elliptical](ellip.png) |"
   ]
  },
  {
   "cell_type": "markdown",
   "id": "43b64573-68d0-4720-a420-c4a195adeabb",
   "metadata": {},
   "source": [
    "### Conclusions\n",
    "\n",
<<<<<<< HEAD
    "Having created the rectangular model that accurately depicts the scenario of current flowing through a copper bus bar, Maxwells Equations can be used to characterize resistance and inductance. Knowing the resistance and inductance will allow McGillan-McGee to alter the copper bus bar in such a way that voltage spikes will not run back through it and ruin the attached machinery. The elliptical model we created will allow McGillan-McGee to continue following along McLachlan's$^1$ work and potentially pursue a different avenue."
   ]
  },
  {
   "cell_type": "markdown",
   "id": "f5c2efdd",
   "metadata": {},
   "source": [
    "### Acknowledgements\n",
    "We would like to express our deep gratitude to our terrific mentor, Dr. Shaun Lui, for his time and wisdom. Shaun has done a terrific job of introducing us to the right materials that we needed in order to endeavour on our problem.We would also wish to thank  our industry mentor, Edwin Reid, for the opportunity to work on this project with him and  for his eagernes to share his industry expertise. Finally, we want to thank the organizers of the PIMS $Math^{Industry}$ workshop, specially to Professors Allen Herman and Kristine Bauer for their support. "
   ]
  },
  {
   "cell_type": "markdown",
   "id": "0237e757-3a46-4845-b2bb-51a3d8479629",
   "metadata": {},
   "source": [
    "### References\n",
    "\n",
    "[1]: Norman W. McLachlan, \"Theory and Applications of Mathieu Functions\",  Oxford University Press, 1947.  \n",
    "[2]: S. H. Lui, Numerical Analysis of Partial Differential Equations, Wiley, 2011"
   ]
  },
  {
   "cell_type": "code",
   "execution_count": null,
   "id": "81a25167-1929-4210-a332-2ee17bd6a989",
=======
    "Having created the rectangular model that accurately depicts the scenario of current flowing through a copper bus bar, Maxwells Equations can be used to characterize resistance and inductance. Knowing the resistance and inductance will allow McGillan-McGee to alter the copper bus bar in such a way that voltage spikes will not run back through it and ruin the attached machinery. The elliptical model we created will allow McGillan-McGee to continue following along McLachlan's$^1$ work and potentially pursue a different avenue.\n",
    "\n",
    "<h3>References</h3>\n",
    "\n",
    "$[1]$: Norman W. McLachlan, \"Theory and Applications of Mathieu Functions\",  Oxford University Press, 1947.$\\newline$ $[2]$: S. H. Lui, Numerical Analysis of Partial Differential Equations, Wiley, 2011"
   ]
  },
  {
   "cell_type": "code",
   "execution_count": null,
   "id": "61d3d6d3",
>>>>>>> 4092976f898bad24a9c7111feeb6bf8e047f6ced
   "metadata": {},
   "outputs": [],
   "source": []
  }
 ],
 "metadata": {
  "kernelspec": {
   "display_name": "Python 3 (ipykernel)",
   "language": "python",
   "name": "python3"
  },
  "language_info": {
   "codemirror_mode": {
    "name": "ipython",
    "version": 3
   },
   "file_extension": ".py",
   "mimetype": "text/x-python",
   "name": "python",
   "nbconvert_exporter": "python",
   "pygments_lexer": "ipython3",
   "version": "3.9.6"
  },
  "toc-autonumbering": false
 },
 "nbformat": 4,
 "nbformat_minor": 5
}
