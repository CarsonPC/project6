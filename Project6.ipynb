{
 "cells": [
  {
   "cell_type": "markdown",
   "id": "eb522eec",
   "metadata": {},
   "source": [
    "<h1 align= \"center\"><img src=\"m2pi.png\" width=\"200px\">Project 6 McMillan-McGee</h1>\n",
    "\n",
    "<h2> <center> Chambers, C. Sobrevilla, P. Khorasani, A. </center></h2>\n",
    "\n",
    "> ABSTRACT: Voltage spikes occur when current is abruptly interrupted and can damage inadequately protected equipment. To install protective equipment one must find the resistance and inductance of the object carrying the current. Using Maxwells Equations one can relate the resistance and inductance to the intensity of the magnetic field induced by the current. The authors suggest a poisson equation using discrete methods for computation to model the magnetic field intensity.\n",
    "\n",
    "<h3> Introduction </h3>\n",
    "The engineering firm McMillan-McGee came to $Math^{industry}$ with a thermodynamics problem involving electromagnetic fields that required solving a certain non-homogenous boundary value problem involving Maxwell's equations. McMillan-McGee developed a high frequency inverter. This high frequency alternating current induces an electromagnetic field and if this current is aburptly interrupted then a voltage spike will occur that puts the equipment at risk of being damaged. To install a suitable bus bar system that can absorb energy caused by switching transients from semiconductor devices, both the resistance and inductance of the DC bus bar that supplies the current must be characterized.  \n",
    "\n",
    "Previous work has been done on this subject by Norman McLauchlan$^1$ using an ellipse to approximate a rectangular cross-section of a bus bar he developed formulas to find current density, power loss, and high frequency resistance. Unfortunately, McLauchlan's work is in Gaussian units instead of MKS units which is undesirable for an engineer. McLauchlan draws the conclusion that the surface distribution of current density is identical to that of a bar holding an electric charge. Hence, the total current flowing axially on the bus bar corresponds to the total surface charge.\n",
    "\n",
    "<h3> Theory </h3>\n",
    "The bus bar being made of copper allows itself to be a good conductor which the magnetic field barely penetrates. As such, the problem can be reduced from three dimensions to two dimensions, only observing the surface layer. The component of the magnetic field normal to the bar's surface tends to decay exponentially. Thus the magnetic field is roughly tangential to the bus bar and it follows that on the surface the vector magnetic potential is constant and satisfies the same conditions as the electrostatic potential.\n"
   ]
  },
  {
   "cell_type": "code",
   "execution_count": null,
   "id": "b1e1d758",
   "metadata": {},
   "outputs": [],
   "source": []
  }
 ],
 "metadata": {
  "kernelspec": {
   "display_name": "Python 3 (ipykernel)",
   "language": "python",
   "name": "python3"
  },
  "language_info": {
   "codemirror_mode": {
    "name": "ipython",
    "version": 3
   },
   "file_extension": ".py",
   "mimetype": "text/x-python",
   "name": "python",
   "nbconvert_exporter": "python",
   "pygments_lexer": "ipython3",
   "version": "3.8.10"
  }
 },
 "nbformat": 4,
 "nbformat_minor": 5
}
